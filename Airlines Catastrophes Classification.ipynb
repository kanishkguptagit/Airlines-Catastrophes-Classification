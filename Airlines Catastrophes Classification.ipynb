{
 "cells": [
  {
   "cell_type": "code",
   "execution_count": 1,
   "metadata": {},
   "outputs": [],
   "source": [
    "#airplane prediction"
   ]
  },
  {
   "cell_type": "code",
   "execution_count": 2,
   "metadata": {},
   "outputs": [],
   "source": [
    "import numpy as np\n",
    "import pandas as pd\n",
    "import matplotlib.pyplot as plt\n",
    "import seaborn as sns\n",
    "from scipy import stats\n",
    "import pylab\n",
    "from sklearn.model_selection import train_test_split\n",
    "from sklearn.ensemble import RandomForestClassifier\n",
    "from sklearn.ensemble import GradientBoostingClassifier\n",
    "from sklearn.metrics import f1_score\n",
    "from xgboost import XGBClassifier"
   ]
  },
  {
   "cell_type": "code",
   "execution_count": 3,
   "metadata": {},
   "outputs": [],
   "source": [
    "data = pd.read_csv('./train.csv')"
   ]
  },
  {
   "cell_type": "code",
   "execution_count": 4,
   "metadata": {},
   "outputs": [
    {
     "data": {
      "text/html": [
       "<div>\n",
       "<style scoped>\n",
       "    .dataframe tbody tr th:only-of-type {\n",
       "        vertical-align: middle;\n",
       "    }\n",
       "\n",
       "    .dataframe tbody tr th {\n",
       "        vertical-align: top;\n",
       "    }\n",
       "\n",
       "    .dataframe thead th {\n",
       "        text-align: right;\n",
       "    }\n",
       "</style>\n",
       "<table border=\"1\" class=\"dataframe\">\n",
       "  <thead>\n",
       "    <tr style=\"text-align: right;\">\n",
       "      <th></th>\n",
       "      <th>Id</th>\n",
       "      <th>inspectionScore</th>\n",
       "      <th>maneuverabilityScore</th>\n",
       "      <th>maintananceConcerns</th>\n",
       "      <th>weatherSeverityScore</th>\n",
       "      <th>temperature</th>\n",
       "      <th>safetyCheckFailures</th>\n",
       "      <th>galeStrength</th>\n",
       "      <th>lastInspected</th>\n",
       "      <th>incidentCode</th>\n",
       "      <th>incidentID</th>\n",
       "      <th>maxCruisingElevation</th>\n",
       "      <th>scaleOfIncident</th>\n",
       "    </tr>\n",
       "  </thead>\n",
       "  <tbody>\n",
       "    <tr>\n",
       "      <th>0</th>\n",
       "      <td>0</td>\n",
       "      <td>16.301370</td>\n",
       "      <td>59.161349</td>\n",
       "      <td>17</td>\n",
       "      <td>0.129040</td>\n",
       "      <td>79.66</td>\n",
       "      <td>3</td>\n",
       "      <td>0.298803</td>\n",
       "      <td>16</td>\n",
       "      <td>3</td>\n",
       "      <td>10888</td>\n",
       "      <td>26116.134006</td>\n",
       "      <td>catastrophic</td>\n",
       "    </tr>\n",
       "    <tr>\n",
       "      <th>1</th>\n",
       "      <td>1</td>\n",
       "      <td>18.310502</td>\n",
       "      <td>62.534184</td>\n",
       "      <td>8</td>\n",
       "      <td>0.003186</td>\n",
       "      <td>78.00</td>\n",
       "      <td>1</td>\n",
       "      <td>0.288345</td>\n",
       "      <td>16</td>\n",
       "      <td>7</td>\n",
       "      <td>587</td>\n",
       "      <td>36059.221584</td>\n",
       "      <td>catastrophic</td>\n",
       "    </tr>\n",
       "    <tr>\n",
       "      <th>2</th>\n",
       "      <td>2</td>\n",
       "      <td>25.662100</td>\n",
       "      <td>70.738377</td>\n",
       "      <td>10</td>\n",
       "      <td>0.064877</td>\n",
       "      <td>79.17</td>\n",
       "      <td>2</td>\n",
       "      <td>0.207206</td>\n",
       "      <td>14</td>\n",
       "      <td>4</td>\n",
       "      <td>4574</td>\n",
       "      <td>35594.722894</td>\n",
       "      <td>catastrophic</td>\n",
       "    </tr>\n",
       "    <tr>\n",
       "      <th>3</th>\n",
       "      <td>3</td>\n",
       "      <td>37.488584</td>\n",
       "      <td>66.636281</td>\n",
       "      <td>7</td>\n",
       "      <td>0.003557</td>\n",
       "      <td>81.56</td>\n",
       "      <td>2</td>\n",
       "      <td>0.295558</td>\n",
       "      <td>14</td>\n",
       "      <td>6</td>\n",
       "      <td>12044</td>\n",
       "      <td>14871.664920</td>\n",
       "      <td>medium</td>\n",
       "    </tr>\n",
       "    <tr>\n",
       "      <th>4</th>\n",
       "      <td>4</td>\n",
       "      <td>58.401826</td>\n",
       "      <td>71.741112</td>\n",
       "      <td>4</td>\n",
       "      <td>0.356823</td>\n",
       "      <td>79.31</td>\n",
       "      <td>2</td>\n",
       "      <td>0.362273</td>\n",
       "      <td>11</td>\n",
       "      <td>2</td>\n",
       "      <td>8948</td>\n",
       "      <td>26391.631688</td>\n",
       "      <td>low</td>\n",
       "    </tr>\n",
       "    <tr>\n",
       "      <th>5</th>\n",
       "      <td>5</td>\n",
       "      <td>53.926941</td>\n",
       "      <td>69.644485</td>\n",
       "      <td>11</td>\n",
       "      <td>0.558462</td>\n",
       "      <td>85.08</td>\n",
       "      <td>2</td>\n",
       "      <td>0.474426</td>\n",
       "      <td>12</td>\n",
       "      <td>2</td>\n",
       "      <td>3622</td>\n",
       "      <td>41597.930434</td>\n",
       "      <td>low</td>\n",
       "    </tr>\n",
       "    <tr>\n",
       "      <th>6</th>\n",
       "      <td>6</td>\n",
       "      <td>49.771689</td>\n",
       "      <td>37.648131</td>\n",
       "      <td>6</td>\n",
       "      <td>0.086740</td>\n",
       "      <td>84.87</td>\n",
       "      <td>2</td>\n",
       "      <td>0.542583</td>\n",
       "      <td>14</td>\n",
       "      <td>4</td>\n",
       "      <td>12262</td>\n",
       "      <td>47124.241111</td>\n",
       "      <td>low</td>\n",
       "    </tr>\n",
       "    <tr>\n",
       "      <th>7</th>\n",
       "      <td>7</td>\n",
       "      <td>34.063927</td>\n",
       "      <td>62.351869</td>\n",
       "      <td>1</td>\n",
       "      <td>0.066496</td>\n",
       "      <td>77.36</td>\n",
       "      <td>2</td>\n",
       "      <td>0.339193</td>\n",
       "      <td>15</td>\n",
       "      <td>4</td>\n",
       "      <td>1717</td>\n",
       "      <td>36420.956297</td>\n",
       "      <td>medium</td>\n",
       "    </tr>\n",
       "    <tr>\n",
       "      <th>8</th>\n",
       "      <td>8</td>\n",
       "      <td>21.917808</td>\n",
       "      <td>62.807657</td>\n",
       "      <td>13</td>\n",
       "      <td>0.147082</td>\n",
       "      <td>79.40</td>\n",
       "      <td>2</td>\n",
       "      <td>0.330899</td>\n",
       "      <td>18</td>\n",
       "      <td>3</td>\n",
       "      <td>4425</td>\n",
       "      <td>29457.131416</td>\n",
       "      <td>medium</td>\n",
       "    </tr>\n",
       "    <tr>\n",
       "      <th>9</th>\n",
       "      <td>9</td>\n",
       "      <td>45.570776</td>\n",
       "      <td>48.541477</td>\n",
       "      <td>17</td>\n",
       "      <td>1.451384</td>\n",
       "      <td>79.45</td>\n",
       "      <td>3</td>\n",
       "      <td>0.514094</td>\n",
       "      <td>8</td>\n",
       "      <td>1</td>\n",
       "      <td>4347</td>\n",
       "      <td>39029.733563</td>\n",
       "      <td>high</td>\n",
       "    </tr>\n",
       "  </tbody>\n",
       "</table>\n",
       "</div>"
      ],
      "text/plain": [
       "   Id  inspectionScore  maneuverabilityScore  maintananceConcerns  \\\n",
       "0   0        16.301370             59.161349                   17   \n",
       "1   1        18.310502             62.534184                    8   \n",
       "2   2        25.662100             70.738377                   10   \n",
       "3   3        37.488584             66.636281                    7   \n",
       "4   4        58.401826             71.741112                    4   \n",
       "5   5        53.926941             69.644485                   11   \n",
       "6   6        49.771689             37.648131                    6   \n",
       "7   7        34.063927             62.351869                    1   \n",
       "8   8        21.917808             62.807657                   13   \n",
       "9   9        45.570776             48.541477                   17   \n",
       "\n",
       "   weatherSeverityScore  temperature  safetyCheckFailures  galeStrength  \\\n",
       "0              0.129040        79.66                    3      0.298803   \n",
       "1              0.003186        78.00                    1      0.288345   \n",
       "2              0.064877        79.17                    2      0.207206   \n",
       "3              0.003557        81.56                    2      0.295558   \n",
       "4              0.356823        79.31                    2      0.362273   \n",
       "5              0.558462        85.08                    2      0.474426   \n",
       "6              0.086740        84.87                    2      0.542583   \n",
       "7              0.066496        77.36                    2      0.339193   \n",
       "8              0.147082        79.40                    2      0.330899   \n",
       "9              1.451384        79.45                    3      0.514094   \n",
       "\n",
       "   lastInspected  incidentCode  incidentID  maxCruisingElevation  \\\n",
       "0             16             3       10888          26116.134006   \n",
       "1             16             7         587          36059.221584   \n",
       "2             14             4        4574          35594.722894   \n",
       "3             14             6       12044          14871.664920   \n",
       "4             11             2        8948          26391.631688   \n",
       "5             12             2        3622          41597.930434   \n",
       "6             14             4       12262          47124.241111   \n",
       "7             15             4        1717          36420.956297   \n",
       "8             18             3        4425          29457.131416   \n",
       "9              8             1        4347          39029.733563   \n",
       "\n",
       "  scaleOfIncident  \n",
       "0    catastrophic  \n",
       "1    catastrophic  \n",
       "2    catastrophic  \n",
       "3          medium  \n",
       "4             low  \n",
       "5             low  \n",
       "6             low  \n",
       "7          medium  \n",
       "8          medium  \n",
       "9            high  "
      ]
     },
     "execution_count": 4,
     "metadata": {},
     "output_type": "execute_result"
    }
   ],
   "source": [
    "data.head(10)"
   ]
  },
  {
   "cell_type": "code",
   "execution_count": 5,
   "metadata": {},
   "outputs": [
    {
     "data": {
      "text/html": [
       "<div>\n",
       "<style scoped>\n",
       "    .dataframe tbody tr th:only-of-type {\n",
       "        vertical-align: middle;\n",
       "    }\n",
       "\n",
       "    .dataframe tbody tr th {\n",
       "        vertical-align: top;\n",
       "    }\n",
       "\n",
       "    .dataframe thead th {\n",
       "        text-align: right;\n",
       "    }\n",
       "</style>\n",
       "<table border=\"1\" class=\"dataframe\">\n",
       "  <thead>\n",
       "    <tr style=\"text-align: right;\">\n",
       "      <th></th>\n",
       "      <th>Id</th>\n",
       "      <th>inspectionScore</th>\n",
       "      <th>maneuverabilityScore</th>\n",
       "      <th>maintananceConcerns</th>\n",
       "      <th>weatherSeverityScore</th>\n",
       "      <th>temperature</th>\n",
       "      <th>safetyCheckFailures</th>\n",
       "      <th>galeStrength</th>\n",
       "      <th>lastInspected</th>\n",
       "      <th>incidentCode</th>\n",
       "      <th>incidentID</th>\n",
       "      <th>maxCruisingElevation</th>\n",
       "    </tr>\n",
       "  </thead>\n",
       "  <tbody>\n",
       "    <tr>\n",
       "      <th>count</th>\n",
       "      <td>9000.000000</td>\n",
       "      <td>9000.000000</td>\n",
       "      <td>9000.000000</td>\n",
       "      <td>9000.000000</td>\n",
       "      <td>9000.000000</td>\n",
       "      <td>9000.000000</td>\n",
       "      <td>9000.000000</td>\n",
       "      <td>9000.000000</td>\n",
       "      <td>9000.000000</td>\n",
       "      <td>9000.000000</td>\n",
       "      <td>9000.000000</td>\n",
       "      <td>9000.000000</td>\n",
       "    </tr>\n",
       "    <tr>\n",
       "      <th>mean</th>\n",
       "      <td>4499.500000</td>\n",
       "      <td>41.845718</td>\n",
       "      <td>65.153287</td>\n",
       "      <td>6.577444</td>\n",
       "      <td>0.256260</td>\n",
       "      <td>79.965202</td>\n",
       "      <td>2.011444</td>\n",
       "      <td>0.381305</td>\n",
       "      <td>12.949444</td>\n",
       "      <td>3.817444</td>\n",
       "      <td>6251.004000</td>\n",
       "      <td>32018.638334</td>\n",
       "    </tr>\n",
       "    <tr>\n",
       "      <th>std</th>\n",
       "      <td>2598.220545</td>\n",
       "      <td>16.144070</td>\n",
       "      <td>11.864675</td>\n",
       "      <td>6.960863</td>\n",
       "      <td>0.381550</td>\n",
       "      <td>2.763950</td>\n",
       "      <td>1.042695</td>\n",
       "      <td>0.121226</td>\n",
       "      <td>3.543108</td>\n",
       "      <td>1.907025</td>\n",
       "      <td>3610.759895</td>\n",
       "      <td>9439.873572</td>\n",
       "    </tr>\n",
       "    <tr>\n",
       "      <th>min</th>\n",
       "      <td>0.000000</td>\n",
       "      <td>0.000000</td>\n",
       "      <td>0.000000</td>\n",
       "      <td>0.000000</td>\n",
       "      <td>0.000316</td>\n",
       "      <td>74.740000</td>\n",
       "      <td>0.000000</td>\n",
       "      <td>0.134000</td>\n",
       "      <td>1.000000</td>\n",
       "      <td>1.000000</td>\n",
       "      <td>2.000000</td>\n",
       "      <td>831.695553</td>\n",
       "    </tr>\n",
       "    <tr>\n",
       "      <th>25%</th>\n",
       "      <td>2249.750000</td>\n",
       "      <td>30.456621</td>\n",
       "      <td>56.973564</td>\n",
       "      <td>2.000000</td>\n",
       "      <td>0.011668</td>\n",
       "      <td>77.950000</td>\n",
       "      <td>1.000000</td>\n",
       "      <td>0.293394</td>\n",
       "      <td>11.000000</td>\n",
       "      <td>2.000000</td>\n",
       "      <td>3130.750000</td>\n",
       "      <td>25739.384677</td>\n",
       "    </tr>\n",
       "    <tr>\n",
       "      <th>50%</th>\n",
       "      <td>4499.500000</td>\n",
       "      <td>41.187215</td>\n",
       "      <td>65.587967</td>\n",
       "      <td>4.000000</td>\n",
       "      <td>0.074378</td>\n",
       "      <td>79.530000</td>\n",
       "      <td>2.000000</td>\n",
       "      <td>0.365518</td>\n",
       "      <td>13.000000</td>\n",
       "      <td>4.000000</td>\n",
       "      <td>6238.500000</td>\n",
       "      <td>32108.894454</td>\n",
       "    </tr>\n",
       "    <tr>\n",
       "      <th>75%</th>\n",
       "      <td>6749.250000</td>\n",
       "      <td>52.465753</td>\n",
       "      <td>73.336372</td>\n",
       "      <td>9.000000</td>\n",
       "      <td>0.355283</td>\n",
       "      <td>81.570000</td>\n",
       "      <td>3.000000</td>\n",
       "      <td>0.451346</td>\n",
       "      <td>15.000000</td>\n",
       "      <td>6.000000</td>\n",
       "      <td>9394.500000</td>\n",
       "      <td>38399.455105</td>\n",
       "    </tr>\n",
       "    <tr>\n",
       "      <th>max</th>\n",
       "      <td>8999.000000</td>\n",
       "      <td>100.000000</td>\n",
       "      <td>100.000000</td>\n",
       "      <td>54.000000</td>\n",
       "      <td>2.365378</td>\n",
       "      <td>97.510000</td>\n",
       "      <td>5.000000</td>\n",
       "      <td>0.882648</td>\n",
       "      <td>23.000000</td>\n",
       "      <td>7.000000</td>\n",
       "      <td>12500.000000</td>\n",
       "      <td>64297.651218</td>\n",
       "    </tr>\n",
       "  </tbody>\n",
       "</table>\n",
       "</div>"
      ],
      "text/plain": [
       "                Id  inspectionScore  maneuverabilityScore  \\\n",
       "count  9000.000000      9000.000000           9000.000000   \n",
       "mean   4499.500000        41.845718             65.153287   \n",
       "std    2598.220545        16.144070             11.864675   \n",
       "min       0.000000         0.000000              0.000000   \n",
       "25%    2249.750000        30.456621             56.973564   \n",
       "50%    4499.500000        41.187215             65.587967   \n",
       "75%    6749.250000        52.465753             73.336372   \n",
       "max    8999.000000       100.000000            100.000000   \n",
       "\n",
       "       maintananceConcerns  weatherSeverityScore  temperature  \\\n",
       "count          9000.000000           9000.000000  9000.000000   \n",
       "mean              6.577444              0.256260    79.965202   \n",
       "std               6.960863              0.381550     2.763950   \n",
       "min               0.000000              0.000316    74.740000   \n",
       "25%               2.000000              0.011668    77.950000   \n",
       "50%               4.000000              0.074378    79.530000   \n",
       "75%               9.000000              0.355283    81.570000   \n",
       "max              54.000000              2.365378    97.510000   \n",
       "\n",
       "       safetyCheckFailures  galeStrength  lastInspected  incidentCode  \\\n",
       "count          9000.000000   9000.000000    9000.000000   9000.000000   \n",
       "mean              2.011444      0.381305      12.949444      3.817444   \n",
       "std               1.042695      0.121226       3.543108      1.907025   \n",
       "min               0.000000      0.134000       1.000000      1.000000   \n",
       "25%               1.000000      0.293394      11.000000      2.000000   \n",
       "50%               2.000000      0.365518      13.000000      4.000000   \n",
       "75%               3.000000      0.451346      15.000000      6.000000   \n",
       "max               5.000000      0.882648      23.000000      7.000000   \n",
       "\n",
       "         incidentID  maxCruisingElevation  \n",
       "count   9000.000000           9000.000000  \n",
       "mean    6251.004000          32018.638334  \n",
       "std     3610.759895           9439.873572  \n",
       "min        2.000000            831.695553  \n",
       "25%     3130.750000          25739.384677  \n",
       "50%     6238.500000          32108.894454  \n",
       "75%     9394.500000          38399.455105  \n",
       "max    12500.000000          64297.651218  "
      ]
     },
     "execution_count": 5,
     "metadata": {},
     "output_type": "execute_result"
    }
   ],
   "source": [
    "data.describe()"
   ]
  },
  {
   "cell_type": "code",
   "execution_count": 6,
   "metadata": {},
   "outputs": [
    {
     "name": "stdout",
     "output_type": "stream",
     "text": [
      "<class 'pandas.core.frame.DataFrame'>\n",
      "RangeIndex: 9000 entries, 0 to 8999\n",
      "Data columns (total 13 columns):\n",
      " #   Column                Non-Null Count  Dtype  \n",
      "---  ------                --------------  -----  \n",
      " 0   Id                    9000 non-null   int64  \n",
      " 1   inspectionScore       9000 non-null   float64\n",
      " 2   maneuverabilityScore  9000 non-null   float64\n",
      " 3   maintananceConcerns   9000 non-null   int64  \n",
      " 4   weatherSeverityScore  9000 non-null   float64\n",
      " 5   temperature           9000 non-null   float64\n",
      " 6   safetyCheckFailures   9000 non-null   int64  \n",
      " 7   galeStrength          9000 non-null   float64\n",
      " 8   lastInspected         9000 non-null   int64  \n",
      " 9   incidentCode          9000 non-null   int64  \n",
      " 10  incidentID            9000 non-null   int64  \n",
      " 11  maxCruisingElevation  9000 non-null   float64\n",
      " 12  scaleOfIncident       9000 non-null   object \n",
      "dtypes: float64(6), int64(6), object(1)\n",
      "memory usage: 914.2+ KB\n"
     ]
    }
   ],
   "source": [
    "data.info()"
   ]
  },
  {
   "cell_type": "code",
   "execution_count": 7,
   "metadata": {},
   "outputs": [
    {
     "data": {
      "text/plain": [
       "Id                      0\n",
       "inspectionScore         0\n",
       "maneuverabilityScore    0\n",
       "maintananceConcerns     0\n",
       "weatherSeverityScore    0\n",
       "temperature             0\n",
       "safetyCheckFailures     0\n",
       "galeStrength            0\n",
       "lastInspected           0\n",
       "incidentCode            0\n",
       "incidentID              0\n",
       "maxCruisingElevation    0\n",
       "scaleOfIncident         0\n",
       "dtype: int64"
      ]
     },
     "execution_count": 7,
     "metadata": {},
     "output_type": "execute_result"
    }
   ],
   "source": [
    "data.isnull().sum()"
   ]
  },
  {
   "cell_type": "code",
   "execution_count": 8,
   "metadata": {},
   "outputs": [],
   "source": [
    "#that's good, we don't have any null values"
   ]
  },
  {
   "cell_type": "code",
   "execution_count": 9,
   "metadata": {},
   "outputs": [
    {
     "data": {
      "text/plain": [
       "array(['catastrophic', 'high', 'low', 'medium'], dtype=object)"
      ]
     },
     "execution_count": 9,
     "metadata": {},
     "output_type": "execute_result"
    }
   ],
   "source": [
    "np.unique(data['scaleOfIncident'])"
   ]
  },
  {
   "cell_type": "code",
   "execution_count": 10,
   "metadata": {},
   "outputs": [],
   "source": [
    "#we can see there are mainly 4 categories of accident."
   ]
  },
  {
   "cell_type": "code",
   "execution_count": 11,
   "metadata": {},
   "outputs": [
    {
     "data": {
      "text/plain": [
       "catastrophic    2754\n",
       "medium          2472\n",
       "low             2267\n",
       "high            1507\n",
       "Name: scaleOfIncident, dtype: int64"
      ]
     },
     "execution_count": 11,
     "metadata": {},
     "output_type": "execute_result"
    }
   ],
   "source": [
    "data['scaleOfIncident'].value_counts()"
   ]
  },
  {
   "cell_type": "code",
   "execution_count": 12,
   "metadata": {},
   "outputs": [
    {
     "data": {
      "text/plain": [
       "<AxesSubplot:xlabel='scaleOfIncident', ylabel='count'>"
      ]
     },
     "execution_count": 12,
     "metadata": {},
     "output_type": "execute_result"
    },
    {
     "data": {
      "image/png": "[encoded data removed]",
      "text/plain": [
       "<Figure size 432x288 with 1 Axes>"
      ]
     },
     "metadata": {
      "needs_background": "light"
     },
     "output_type": "display_data"
    }
   ],
   "source": [
    "sns.countplot(data=data, x='scaleOfIncident')"
   ]
  },
  {
   "cell_type": "code",
   "execution_count": 13,
   "metadata": {},
   "outputs": [
    {
     "data": {
      "text/plain": [
       "<AxesSubplot:xlabel='inspectionScore', ylabel='Density'>"
      ]
     },
     "execution_count": 13,
     "metadata": {},
     "output_type": "execute_result"
    },
    {
     "data": {
      "image/png": "[encoded data removed]",
      "text/plain": [
       "<Figure size 432x288 with 1 Axes>"
      ]
     },
     "metadata": {
      "needs_background": "light"
     },
     "output_type": "display_data"
    }
   ],
   "source": [
    "sns.kdeplot(data['inspectionScore'])"
   ]
  },
  {
   "cell_type": "code",
   "execution_count": 14,
   "metadata": {},
   "outputs": [],
   "source": [
    "#most of the airplanes that crashed had a safety factory of even less than 50%"
   ]
  },
  {
   "cell_type": "code",
   "execution_count": 15,
   "metadata": {},
   "outputs": [
    {
     "data": {
      "text/plain": [
       "<AxesSubplot:xlabel='maneuverabilityScore', ylabel='Density'>"
      ]
     },
     "execution_count": 15,
     "metadata": {},
     "output_type": "execute_result"
    },
    {
     "data": {
      "image/png": "[encoded data removed]",
      "text/plain": [
       "<Figure size 432x288 with 1 Axes>"
      ]
     },
     "metadata": {
      "needs_background": "light"
     },
     "output_type": "display_data"
    }
   ],
   "source": [
    "sns.kdeplot(data['maneuverabilityScore'])"
   ]
  },
  {
   "cell_type": "code",
   "execution_count": 16,
   "metadata": {},
   "outputs": [],
   "source": [
    "#most of the pilots had a control of 70% during the accident, which is not that bad"
   ]
  },
  {
   "cell_type": "code",
   "execution_count": 17,
   "metadata": {},
   "outputs": [
    {
     "data": {
      "text/plain": [
       "<AxesSubplot:xlabel='maintananceConcerns', ylabel='Density'>"
      ]
     },
     "execution_count": 17,
     "metadata": {},
     "output_type": "execute_result"
    },
    {
     "data": {
      "image/png": "[encoded data removed]",
      "text/plain": [
       "<Figure size 432x288 with 1 Axes>"
      ]
     },
     "metadata": {
      "needs_background": "light"
     },
     "output_type": "display_data"
    }
   ],
   "source": [
    "sns.kdeplot(data['maintananceConcerns'])"
   ]
  },
  {
   "cell_type": "code",
   "execution_count": 18,
   "metadata": {},
   "outputs": [],
   "source": [
    "#almost all the airplanes had maintanance concerns of even less than 5, which is very good, however few of \n",
    "#them also had a high maintanance concerns"
   ]
  },
  {
   "cell_type": "code",
   "execution_count": 19,
   "metadata": {},
   "outputs": [
    {
     "data": {
      "text/plain": [
       "<AxesSubplot:xlabel='weatherSeverityScore', ylabel='Density'>"
      ]
     },
     "execution_count": 19,
     "metadata": {},
     "output_type": "execute_result"
    },
    {
     "data": {
      "image/png": "[encoded data removed]",
      "text/plain": [
       "<Figure size 432x288 with 1 Axes>"
      ]
     },
     "metadata": {
      "needs_background": "light"
     },
     "output_type": "display_data"
    }
   ],
   "source": [
    "sns.kdeplot(data['weatherSeverityScore'])"
   ]
  },
  {
   "cell_type": "code",
   "execution_count": 20,
   "metadata": {},
   "outputs": [
    {
     "data": {
      "text/plain": [
       "<AxesSubplot:xlabel='temperature', ylabel='Density'>"
      ]
     },
     "execution_count": 20,
     "metadata": {},
     "output_type": "execute_result"
    },
    {
     "data": {
      "image/png": "[encoded data removed]",
      "text/plain": [
       "<Figure size 432x288 with 1 Axes>"
      ]
     },
     "metadata": {
      "needs_background": "light"
     },
     "output_type": "display_data"
    }
   ],
   "source": [
    "sns.kdeplot(data['temperature'])"
   ]
  },
  {
   "cell_type": "code",
   "execution_count": 21,
   "metadata": {},
   "outputs": [
    {
     "data": {
      "text/plain": [
       "array([0, 1, 2, 3, 4, 5], dtype=int64)"
      ]
     },
     "execution_count": 21,
     "metadata": {},
     "output_type": "execute_result"
    }
   ],
   "source": [
    "np.unique(data['safetyCheckFailures'])"
   ]
  },
  {
   "cell_type": "code",
   "execution_count": 22,
   "metadata": {},
   "outputs": [
    {
     "data": {
      "text/plain": [
       "<AxesSubplot:xlabel='safetyCheckFailures', ylabel='count'>"
      ]
     },
     "execution_count": 22,
     "metadata": {},
     "output_type": "execute_result"
    },
    {
     "data": {
      "image/png": "[encoded data removed]",
      "text/plain": [
       "<Figure size 432x288 with 1 Axes>"
      ]
     },
     "metadata": {
      "needs_background": "light"
     },
     "output_type": "display_data"
    }
   ],
   "source": [
    "sns.countplot(data=data, x='safetyCheckFailures')"
   ]
  },
  {
   "cell_type": "code",
   "execution_count": 23,
   "metadata": {},
   "outputs": [
    {
     "data": {
      "text/plain": [
       "<AxesSubplot:xlabel='galeStrength', ylabel='Density'>"
      ]
     },
     "execution_count": 23,
     "metadata": {},
     "output_type": "execute_result"
    },
    {
     "data": {
      "image/png": "[encoded data removed]",
      "text/plain": [
       "<Figure size 432x288 with 1 Axes>"
      ]
     },
     "metadata": {
      "needs_background": "light"
     },
     "output_type": "display_data"
    }
   ],
   "source": [
    "sns.kdeplot(data['galeStrength'])"
   ]
  },
  {
   "cell_type": "code",
   "execution_count": 24,
   "metadata": {},
   "outputs": [
    {
     "data": {
      "text/plain": [
       "<AxesSubplot:xlabel='lastInspected', ylabel='Density'>"
      ]
     },
     "execution_count": 24,
     "metadata": {},
     "output_type": "execute_result"
    },
    {
     "data": {
      "image/png": "[encoded data removed]",
      "text/plain": [
       "<Figure size 432x288 with 1 Axes>"
      ]
     },
     "metadata": {
      "needs_background": "light"
     },
     "output_type": "display_data"
    }
   ],
   "source": [
    "sns.kdeplot(data['lastInspected'])"
   ]
  },
  {
   "cell_type": "code",
   "execution_count": 25,
   "metadata": {},
   "outputs": [],
   "source": [
    "#planes which were inspected, before more that 10 days, experienced most accidents"
   ]
  },
  {
   "cell_type": "code",
   "execution_count": 26,
   "metadata": {},
   "outputs": [
    {
     "data": {
      "text/plain": [
       "<AxesSubplot:xlabel='incidentCode', ylabel='count'>"
      ]
     },
     "execution_count": 26,
     "metadata": {},
     "output_type": "execute_result"
    },
    {
     "data": {
      "image/png": "[encoded data removed]",
      "text/plain": [
       "<Figure size 432x288 with 1 Axes>"
      ]
     },
     "metadata": {
      "needs_background": "light"
     },
     "output_type": "display_data"
    }
   ],
   "source": [
    "sns.countplot(data=data, x='incidentCode')"
   ]
  },
  {
   "cell_type": "code",
   "execution_count": 27,
   "metadata": {},
   "outputs": [
    {
     "data": {
      "text/plain": [
       "<AxesSubplot:xlabel='maxCruisingElevation', ylabel='Density'>"
      ]
     },
     "execution_count": 27,
     "metadata": {},
     "output_type": "execute_result"
    },
    {
     "data": {
      "image/png": "[encoded data removed]",
      "text/plain": [
       "<Figure size 432x288 with 1 Axes>"
      ]
     },
     "metadata": {
      "needs_background": "light"
     },
     "output_type": "display_data"
    }
   ],
   "source": [
    "sns.kdeplot(data['maxCruisingElevation'])"
   ]
  },
  {
   "cell_type": "code",
   "execution_count": 28,
   "metadata": {},
   "outputs": [],
   "source": [
    "#we do not need incident ID and id"
   ]
  },
  {
   "cell_type": "code",
   "execution_count": 29,
   "metadata": {},
   "outputs": [],
   "source": [
    "data.drop(columns=['incidentID','Id'],axis=1, inplace=True)"
   ]
  },
  {
   "cell_type": "code",
   "execution_count": 30,
   "metadata": {},
   "outputs": [
    {
     "data": {
      "text/plain": [
       "Index(['inspectionScore', 'maneuverabilityScore', 'maintananceConcerns',\n",
       "       'weatherSeverityScore', 'temperature', 'safetyCheckFailures',\n",
       "       'galeStrength', 'lastInspected', 'incidentCode', 'maxCruisingElevation',\n",
       "       'scaleOfIncident'],\n",
       "      dtype='object')"
      ]
     },
     "execution_count": 30,
     "metadata": {},
     "output_type": "execute_result"
    }
   ],
   "source": [
    "data.columns"
   ]
  },
  {
   "cell_type": "code",
   "execution_count": 31,
   "metadata": {},
   "outputs": [
    {
     "data": {
      "text/plain": [
       "<AxesSubplot:xlabel='scaleOfIncident', ylabel='safetyCheckFailures'>"
      ]
     },
     "execution_count": 31,
     "metadata": {},
     "output_type": "execute_result"
    },
    {
     "data": {
      "image/png": "[encoded data removed]",
      "text/plain": [
       "<Figure size 432x288 with 1 Axes>"
      ]
     },
     "metadata": {
      "needs_background": "light"
     },
     "output_type": "display_data"
    }
   ],
   "source": [
    "sns.violinplot(data=data, x='scaleOfIncident', y='safetyCheckFailures')"
   ]
  },
  {
   "cell_type": "code",
   "execution_count": 32,
   "metadata": {},
   "outputs": [
    {
     "data": {
      "text/plain": [
       "scaleOfIncident  safetyCheckFailures\n",
       "catastrophic     2                      1083\n",
       "                 1                       668\n",
       "                 3                       612\n",
       "                 0                       214\n",
       "                 4                       165\n",
       "                 5                        12\n",
       "high             2                       538\n",
       "                 3                       411\n",
       "                 1                       312\n",
       "                 4                       140\n",
       "                 0                        85\n",
       "                 5                        21\n",
       "low              2                       838\n",
       "                 1                       595\n",
       "                 3                       528\n",
       "                 0                       147\n",
       "                 4                       147\n",
       "                 5                        12\n",
       "medium           2                       952\n",
       "                 3                       583\n",
       "                 1                       578\n",
       "                 0                       189\n",
       "                 4                       157\n",
       "                 5                        13\n",
       "Name: safetyCheckFailures, dtype: int64"
      ]
     },
     "execution_count": 32,
     "metadata": {},
     "output_type": "execute_result"
    }
   ],
   "source": [
    "data.groupby('scaleOfIncident')['safetyCheckFailures'].value_counts()"
   ]
  },
  {
   "cell_type": "code",
   "execution_count": 33,
   "metadata": {},
   "outputs": [],
   "source": [
    "#it is evident that in all the type of the accident that occured had 2 components failed in most of them."
   ]
  },
  {
   "cell_type": "code",
   "execution_count": 34,
   "metadata": {},
   "outputs": [
    {
     "data": {
      "text/plain": [
       "<seaborn.axisgrid.FacetGrid at 0x1a7eb283910>"
      ]
     },
     "execution_count": 34,
     "metadata": {},
     "output_type": "execute_result"
    },
    {
     "data": {
      "image/png": "[encoded data removed]",
      "text/plain": [
       "<Figure size 360x360 with 1 Axes>"
      ]
     },
     "metadata": {
      "needs_background": "light"
     },
     "output_type": "display_data"
    }
   ],
   "source": [
    "sns.catplot(data=data, x='scaleOfIncident', y='inspectionScore')"
   ]
  },
  {
   "cell_type": "code",
   "execution_count": 35,
   "metadata": {},
   "outputs": [
    {
     "data": {
      "text/plain": [
       "<seaborn.axisgrid.FacetGrid at 0x1a7eb32c1c0>"
      ]
     },
     "execution_count": 35,
     "metadata": {},
     "output_type": "execute_result"
    },
    {
     "data": {
      "image/png": "[encoded data removed]",
      "text/plain": [
       "<Figure size 360x360 with 1 Axes>"
      ]
     },
     "metadata": {
      "needs_background": "light"
     },
     "output_type": "display_data"
    }
   ],
   "source": [
    "sns.catplot(data=data, x='scaleOfIncident', y='maneuverabilityScore')"
   ]
  },
  {
   "cell_type": "code",
   "execution_count": 36,
   "metadata": {},
   "outputs": [
    {
     "data": {
      "text/plain": [
       "<seaborn.axisgrid.FacetGrid at 0x1a7ea208ac0>"
      ]
     },
     "execution_count": 36,
     "metadata": {},
     "output_type": "execute_result"
    },
    {
     "data": {
      "image/png": "[encoded data removed]",
      "text/plain": [
       "<Figure size 360x360 with 1 Axes>"
      ]
     },
     "metadata": {
      "needs_background": "light"
     },
     "output_type": "display_data"
    }
   ],
   "source": [
    "sns.catplot(data=data, x='scaleOfIncident', y='maintananceConcerns')"
   ]
  },
  {
   "cell_type": "code",
   "execution_count": 37,
   "metadata": {},
   "outputs": [
    {
     "data": {
      "text/plain": [
       "<seaborn.axisgrid.FacetGrid at 0x1a7eb2aab20>"
      ]
     },
     "execution_count": 37,
     "metadata": {},
     "output_type": "execute_result"
    },
    {
     "data": {
      "image/png": "[encoded data removed]",
      "text/plain": [
       "<Figure size 360x360 with 1 Axes>"
      ]
     },
     "metadata": {
      "needs_background": "light"
     },
     "output_type": "display_data"
    }
   ],
   "source": [
    "sns.catplot(data=data, x='scaleOfIncident', y='weatherSeverityScore')"
   ]
  },
  {
   "cell_type": "code",
   "execution_count": 38,
   "metadata": {},
   "outputs": [
    {
     "data": {
      "text/plain": [
       "<seaborn.axisgrid.FacetGrid at 0x1a7eb4fc820>"
      ]
     },
     "execution_count": 38,
     "metadata": {},
     "output_type": "execute_result"
    },
    {
     "data": {
      "image/png": "[encoded data removed]",
      "text/plain": [
       "<Figure size 360x360 with 1 Axes>"
      ]
     },
     "metadata": {
      "needs_background": "light"
     },
     "output_type": "display_data"
    }
   ],
   "source": [
    "sns.catplot(data=data, x='scaleOfIncident', y='temperature')"
   ]
  },
  {
   "cell_type": "code",
   "execution_count": 39,
   "metadata": {},
   "outputs": [],
   "source": [
    "data['scaleOfIncident']=data['scaleOfIncident'].apply(lambda x: 1 if x=='low' else(2 if x=='medium' else(3 if x=='high' else 4)))"
   ]
  },
  {
   "cell_type": "code",
   "execution_count": 40,
   "metadata": {},
   "outputs": [
    {
     "data": {
      "text/plain": [
       "4    2754\n",
       "2    2472\n",
       "1    2267\n",
       "3    1507\n",
       "Name: scaleOfIncident, dtype: int64"
      ]
     },
     "execution_count": 40,
     "metadata": {},
     "output_type": "execute_result"
    }
   ],
   "source": [
    "data['scaleOfIncident'].value_counts()"
   ]
  },
  {
   "cell_type": "code",
   "execution_count": 41,
   "metadata": {},
   "outputs": [],
   "source": [
    "#grouping last inspected\n",
    "data['lastInspectedGroup'] = data['lastInspected'].apply(lambda x: (x//5) if(x%5==0) else (x//5)+1)"
   ]
  },
  {
   "cell_type": "code",
   "execution_count": 42,
   "metadata": {},
   "outputs": [
    {
     "data": {
      "text/plain": [
       "3    4778\n",
       "2    1994\n",
       "4    1983\n",
       "1     149\n",
       "5      96\n",
       "Name: lastInspectedGroup, dtype: int64"
      ]
     },
     "execution_count": 42,
     "metadata": {},
     "output_type": "execute_result"
    }
   ],
   "source": [
    "data['lastInspectedGroup'].value_counts()"
   ]
  },
  {
   "cell_type": "code",
   "execution_count": 43,
   "metadata": {},
   "outputs": [
    {
     "data": {
      "text/plain": [
       "<AxesSubplot:xlabel='lastInspectedGroup', ylabel='count'>"
      ]
     },
     "execution_count": 43,
     "metadata": {},
     "output_type": "execute_result"
    },
    {
     "data": {
      "image/png": "[encoded data removed]",
      "text/plain": [
       "<Figure size 432x288 with 1 Axes>"
      ]
     },
     "metadata": {
      "needs_background": "light"
     },
     "output_type": "display_data"
    }
   ],
   "source": [
    "sns.countplot(data=data, x='lastInspectedGroup')"
   ]
  },
  {
   "cell_type": "code",
   "execution_count": 44,
   "metadata": {},
   "outputs": [],
   "source": [
    "#so we can conclude that most of the accidents that occured, happened between 15-20 days of last inspected"
   ]
  },
  {
   "cell_type": "code",
   "execution_count": 45,
   "metadata": {},
   "outputs": [],
   "source": [
    "data.drop(columns='lastInspected',axis=1, inplace=True)"
   ]
  },
  {
   "cell_type": "code",
   "execution_count": 46,
   "metadata": {},
   "outputs": [
    {
     "data": {
      "text/plain": [
       "Index(['inspectionScore', 'maneuverabilityScore', 'maintananceConcerns',\n",
       "       'weatherSeverityScore', 'temperature', 'safetyCheckFailures',\n",
       "       'galeStrength', 'incidentCode', 'maxCruisingElevation',\n",
       "       'scaleOfIncident', 'lastInspectedGroup'],\n",
       "      dtype='object')"
      ]
     },
     "execution_count": 46,
     "metadata": {},
     "output_type": "execute_result"
    }
   ],
   "source": [
    "data.columns"
   ]
  },
  {
   "cell_type": "code",
   "execution_count": 47,
   "metadata": {},
   "outputs": [],
   "source": [
    "data['maintananceConcernGroup'] = data['maintananceConcerns'].apply(lambda x: 5 if(x>20) else(x//5 if(x%5==0 and x!= 0) else (x//5)+1))"
   ]
  },
  {
   "cell_type": "code",
   "execution_count": 48,
   "metadata": {},
   "outputs": [
    {
     "data": {
      "text/plain": [
       "1    5097\n",
       "2    1977\n",
       "3    1015\n",
       "4     457\n",
       "5     454\n",
       "Name: maintananceConcernGroup, dtype: int64"
      ]
     },
     "execution_count": 48,
     "metadata": {},
     "output_type": "execute_result"
    }
   ],
   "source": [
    "data['maintananceConcernGroup'].value_counts()"
   ]
  },
  {
   "cell_type": "code",
   "execution_count": 49,
   "metadata": {},
   "outputs": [],
   "source": [
    "data.drop(columns='maintananceConcerns',axis=1, inplace=True)"
   ]
  },
  {
   "cell_type": "code",
   "execution_count": 50,
   "metadata": {},
   "outputs": [],
   "source": [
    "#to deal with skewness, certain operations is performed\n",
    "\n",
    "def masterplot(data,col):\n",
    "    plt.figure(figsize=(20,5))\n",
    "    plt.subplot(1,3,1)\n",
    "    sns.distplot(data[col])\n",
    "    \n",
    "    plt.subplot(1,3,2)\n",
    "    stats.probplot(data[col],dist='norm',plot=pylab)\n",
    "    \n",
    "    plt.subplot(1,3,3)\n",
    "    sns.boxplot(y=data[col])\n",
    "    \n",
    "def log_master(data,col):\n",
    "    data = data[data[col]>0]\n",
    "    plt.figure(figsize=(20,5))\n",
    "    plt.subplot(1,3,1)\n",
    "    sns.distplot(np.log(data[col]))\n",
    "    \n",
    "    plt.subplot(1,3,2)\n",
    "    stats.probplot(np.log(data[col]),dist='norm',plot=pylab)\n",
    "    \n",
    "    plt.subplot(1,3,3)\n",
    "    sns.boxplot(y=np.log(data[col]))\n",
    "    \n",
    "def reciprocal_master(data,col):\n",
    "    data = data[data[col]>0]\n",
    "    plt.figure(figsize=(20,5))\n",
    "    plt.subplot(1,3,1)\n",
    "    sns.distplot(1/data[col])\n",
    "    \n",
    "    plt.subplot(1,3,2)\n",
    "    stats.probplot(1/data[col],dist='norm',plot=pylab)\n",
    "    \n",
    "    plt.subplot(1,3,3)\n",
    "    sns.boxplot(y=1/data[col])\n",
    "    \n",
    "\n",
    "def squareroot_master(data,col):\n",
    "    plt.figure(figsize=(20,5))\n",
    "    plt.subplot(1,3,1)\n",
    "    sns.distplot(np.sqrt(data[col]))\n",
    "    \n",
    "    plt.subplot(1,3,2)\n",
    "    stats.probplot(np.sqrt(data[col]),dist='norm',plot=pylab)\n",
    "    \n",
    "    plt.subplot(1,3,3)\n",
    "    sns.boxplot(y=np.sqrt(data[col]))"
   ]
  },
  {
   "cell_type": "code",
   "execution_count": 51,
   "metadata": {},
   "outputs": [
    {
     "name": "stderr",
     "output_type": "stream",
     "text": [
      "C:\\Users\\KIIT\\miniconda3\\lib\\site-packages\\seaborn\\distributions.py:2551: FutureWarning: `distplot` is a deprecated function and will be removed in a future version. Please adapt your code to use either `displot` (a figure-level function with similar flexibility) or `histplot` (an axes-level function for histograms).\n",
      "  warnings.warn(msg, FutureWarning)\n"
     ]
    },
    {
     "data": {
      "image/png": "[encoded data removed]",
      "text/plain": [
       "<Figure size 1440x360 with 3 Axes>"
      ]
     },
     "metadata": {
      "needs_background": "light"
     },
     "output_type": "display_data"
    }
   ],
   "source": [
    "#before applying any scaling\n",
    "masterplot(data,'weatherSeverityScore')"
   ]
  },
  {
   "cell_type": "code",
   "execution_count": 52,
   "metadata": {},
   "outputs": [
    {
     "name": "stderr",
     "output_type": "stream",
     "text": [
      "C:\\Users\\KIIT\\miniconda3\\lib\\site-packages\\seaborn\\distributions.py:2551: FutureWarning: `distplot` is a deprecated function and will be removed in a future version. Please adapt your code to use either `displot` (a figure-level function with similar flexibility) or `histplot` (an axes-level function for histograms).\n",
      "  warnings.warn(msg, FutureWarning)\n"
     ]
    },
    {
     "data": {
      "image/png": "[encoded data removed]",
      "text/plain": [
       "<Figure size 1440x360 with 3 Axes>"
      ]
     },
     "metadata": {
      "needs_background": "light"
     },
     "output_type": "display_data"
    }
   ],
   "source": [
    "#after applying scaling\n",
    "log_master(data,'weatherSeverityScore')"
   ]
  },
  {
   "cell_type": "code",
   "execution_count": 53,
   "metadata": {},
   "outputs": [],
   "source": [
    "#tranforming the data\n",
    "data['weatherSeverityScore'] = np.log(data['weatherSeverityScore'])"
   ]
  },
  {
   "cell_type": "code",
   "execution_count": 54,
   "metadata": {},
   "outputs": [
    {
     "data": {
      "text/html": [
       "<div>\n",
       "<style scoped>\n",
       "    .dataframe tbody tr th:only-of-type {\n",
       "        vertical-align: middle;\n",
       "    }\n",
       "\n",
       "    .dataframe tbody tr th {\n",
       "        vertical-align: top;\n",
       "    }\n",
       "\n",
       "    .dataframe thead th {\n",
       "        text-align: right;\n",
       "    }\n",
       "</style>\n",
       "<table border=\"1\" class=\"dataframe\">\n",
       "  <thead>\n",
       "    <tr style=\"text-align: right;\">\n",
       "      <th></th>\n",
       "      <th>inspectionScore</th>\n",
       "      <th>maneuverabilityScore</th>\n",
       "      <th>weatherSeverityScore</th>\n",
       "      <th>temperature</th>\n",
       "      <th>safetyCheckFailures</th>\n",
       "      <th>galeStrength</th>\n",
       "      <th>incidentCode</th>\n",
       "      <th>maxCruisingElevation</th>\n",
       "      <th>scaleOfIncident</th>\n",
       "      <th>lastInspectedGroup</th>\n",
       "      <th>maintananceConcernGroup</th>\n",
       "    </tr>\n",
       "  </thead>\n",
       "  <tbody>\n",
       "    <tr>\n",
       "      <th>0</th>\n",
       "      <td>16.301370</td>\n",
       "      <td>59.161349</td>\n",
       "      <td>-2.047635</td>\n",
       "      <td>79.66</td>\n",
       "      <td>3</td>\n",
       "      <td>0.298803</td>\n",
       "      <td>3</td>\n",
       "      <td>26116.134006</td>\n",
       "      <td>4</td>\n",
       "      <td>4</td>\n",
       "      <td>4</td>\n",
       "    </tr>\n",
       "    <tr>\n",
       "      <th>1</th>\n",
       "      <td>18.310502</td>\n",
       "      <td>62.534184</td>\n",
       "      <td>-5.749121</td>\n",
       "      <td>78.00</td>\n",
       "      <td>1</td>\n",
       "      <td>0.288345</td>\n",
       "      <td>7</td>\n",
       "      <td>36059.221584</td>\n",
       "      <td>4</td>\n",
       "      <td>4</td>\n",
       "      <td>2</td>\n",
       "    </tr>\n",
       "    <tr>\n",
       "      <th>2</th>\n",
       "      <td>25.662100</td>\n",
       "      <td>70.738377</td>\n",
       "      <td>-2.735255</td>\n",
       "      <td>79.17</td>\n",
       "      <td>2</td>\n",
       "      <td>0.207206</td>\n",
       "      <td>4</td>\n",
       "      <td>35594.722894</td>\n",
       "      <td>4</td>\n",
       "      <td>3</td>\n",
       "      <td>2</td>\n",
       "    </tr>\n",
       "    <tr>\n",
       "      <th>3</th>\n",
       "      <td>37.488584</td>\n",
       "      <td>66.636281</td>\n",
       "      <td>-5.638872</td>\n",
       "      <td>81.56</td>\n",
       "      <td>2</td>\n",
       "      <td>0.295558</td>\n",
       "      <td>6</td>\n",
       "      <td>14871.664920</td>\n",
       "      <td>2</td>\n",
       "      <td>3</td>\n",
       "      <td>2</td>\n",
       "    </tr>\n",
       "    <tr>\n",
       "      <th>4</th>\n",
       "      <td>58.401826</td>\n",
       "      <td>71.741112</td>\n",
       "      <td>-1.030516</td>\n",
       "      <td>79.31</td>\n",
       "      <td>2</td>\n",
       "      <td>0.362273</td>\n",
       "      <td>2</td>\n",
       "      <td>26391.631688</td>\n",
       "      <td>1</td>\n",
       "      <td>3</td>\n",
       "      <td>1</td>\n",
       "    </tr>\n",
       "    <tr>\n",
       "      <th>5</th>\n",
       "      <td>53.926941</td>\n",
       "      <td>69.644485</td>\n",
       "      <td>-0.582568</td>\n",
       "      <td>85.08</td>\n",
       "      <td>2</td>\n",
       "      <td>0.474426</td>\n",
       "      <td>2</td>\n",
       "      <td>41597.930434</td>\n",
       "      <td>1</td>\n",
       "      <td>3</td>\n",
       "      <td>3</td>\n",
       "    </tr>\n",
       "    <tr>\n",
       "      <th>6</th>\n",
       "      <td>49.771689</td>\n",
       "      <td>37.648131</td>\n",
       "      <td>-2.444835</td>\n",
       "      <td>84.87</td>\n",
       "      <td>2</td>\n",
       "      <td>0.542583</td>\n",
       "      <td>4</td>\n",
       "      <td>47124.241111</td>\n",
       "      <td>1</td>\n",
       "      <td>3</td>\n",
       "      <td>2</td>\n",
       "    </tr>\n",
       "    <tr>\n",
       "      <th>7</th>\n",
       "      <td>34.063927</td>\n",
       "      <td>62.351869</td>\n",
       "      <td>-2.710608</td>\n",
       "      <td>77.36</td>\n",
       "      <td>2</td>\n",
       "      <td>0.339193</td>\n",
       "      <td>4</td>\n",
       "      <td>36420.956297</td>\n",
       "      <td>2</td>\n",
       "      <td>3</td>\n",
       "      <td>1</td>\n",
       "    </tr>\n",
       "    <tr>\n",
       "      <th>8</th>\n",
       "      <td>21.917808</td>\n",
       "      <td>62.807657</td>\n",
       "      <td>-1.916762</td>\n",
       "      <td>79.40</td>\n",
       "      <td>2</td>\n",
       "      <td>0.330899</td>\n",
       "      <td>3</td>\n",
       "      <td>29457.131416</td>\n",
       "      <td>2</td>\n",
       "      <td>4</td>\n",
       "      <td>3</td>\n",
       "    </tr>\n",
       "    <tr>\n",
       "      <th>9</th>\n",
       "      <td>45.570776</td>\n",
       "      <td>48.541477</td>\n",
       "      <td>0.372517</td>\n",
       "      <td>79.45</td>\n",
       "      <td>3</td>\n",
       "      <td>0.514094</td>\n",
       "      <td>1</td>\n",
       "      <td>39029.733563</td>\n",
       "      <td>3</td>\n",
       "      <td>2</td>\n",
       "      <td>4</td>\n",
       "    </tr>\n",
       "  </tbody>\n",
       "</table>\n",
       "</div>"
      ],
      "text/plain": [
       "   inspectionScore  maneuverabilityScore  weatherSeverityScore  temperature  \\\n",
       "0        16.301370             59.161349             -2.047635        79.66   \n",
       "1        18.310502             62.534184             -5.749121        78.00   \n",
       "2        25.662100             70.738377             -2.735255        79.17   \n",
       "3        37.488584             66.636281             -5.638872        81.56   \n",
       "4        58.401826             71.741112             -1.030516        79.31   \n",
       "5        53.926941             69.644485             -0.582568        85.08   \n",
       "6        49.771689             37.648131             -2.444835        84.87   \n",
       "7        34.063927             62.351869             -2.710608        77.36   \n",
       "8        21.917808             62.807657             -1.916762        79.40   \n",
       "9        45.570776             48.541477              0.372517        79.45   \n",
       "\n",
       "   safetyCheckFailures  galeStrength  incidentCode  maxCruisingElevation  \\\n",
       "0                    3      0.298803             3          26116.134006   \n",
       "1                    1      0.288345             7          36059.221584   \n",
       "2                    2      0.207206             4          35594.722894   \n",
       "3                    2      0.295558             6          14871.664920   \n",
       "4                    2      0.362273             2          26391.631688   \n",
       "5                    2      0.474426             2          41597.930434   \n",
       "6                    2      0.542583             4          47124.241111   \n",
       "7                    2      0.339193             4          36420.956297   \n",
       "8                    2      0.330899             3          29457.131416   \n",
       "9                    3      0.514094             1          39029.733563   \n",
       "\n",
       "   scaleOfIncident  lastInspectedGroup  maintananceConcernGroup  \n",
       "0                4                   4                        4  \n",
       "1                4                   4                        2  \n",
       "2                4                   3                        2  \n",
       "3                2                   3                        2  \n",
       "4                1                   3                        1  \n",
       "5                1                   3                        3  \n",
       "6                1                   3                        2  \n",
       "7                2                   3                        1  \n",
       "8                2                   4                        3  \n",
       "9                3                   2                        4  "
      ]
     },
     "execution_count": 54,
     "metadata": {},
     "output_type": "execute_result"
    }
   ],
   "source": [
    "data.head(10)"
   ]
  },
  {
   "cell_type": "code",
   "execution_count": 55,
   "metadata": {},
   "outputs": [],
   "source": [
    "#dividing data into target and non-target values\n",
    "X = data.drop(columns='scaleOfIncident', axis=1)\n",
    "y = data['scaleOfIncident'].values"
   ]
  },
  {
   "cell_type": "code",
   "execution_count": 56,
   "metadata": {},
   "outputs": [],
   "source": [
    "#splitting data into test and train\n",
    "X_train, X_test, y_train, y_test = train_test_split(X,y, test_size=0.2, random_state=0)"
   ]
  },
  {
   "cell_type": "code",
   "execution_count": 57,
   "metadata": {},
   "outputs": [],
   "source": [
    "#we do not need to scale the data, since we are applying tree based algorithm\n",
    "#applying tree based algorithms first"
   ]
  },
  {
   "cell_type": "code",
   "execution_count": 58,
   "metadata": {},
   "outputs": [],
   "source": [
    "rfclassifier = RandomForestClassifier(n_estimators=100,bootstrap=True,n_jobs=-1, random_state=0)\n",
    "rfclassifier.fit(X_train, y_train)\n",
    "yrf_pred = rfclassifier.predict(X_test)"
   ]
  },
  {
   "cell_type": "code",
   "execution_count": 59,
   "metadata": {},
   "outputs": [
    {
     "data": {
      "text/plain": [
       "0.8491736947992555"
      ]
     },
     "execution_count": 59,
     "metadata": {},
     "output_type": "execute_result"
    }
   ],
   "source": [
    "f1_score(y_test,yrf_pred,average='weighted')"
   ]
  },
  {
   "cell_type": "code",
   "execution_count": 60,
   "metadata": {},
   "outputs": [
    {
     "data": {
      "text/plain": [
       "0.7970330291754236"
      ]
     },
     "execution_count": 60,
     "metadata": {},
     "output_type": "execute_result"
    }
   ],
   "source": [
    "gbclassifier = GradientBoostingClassifier()\n",
    "gbclassifier.fit(X_train, y_train)\n",
    "ygb_pred = gbclassifier.predict(X_test)\n",
    "f1_score(y_test, ygb_pred, average='weighted')"
   ]
  },
  {
   "cell_type": "code",
   "execution_count": 61,
   "metadata": {},
   "outputs": [
    {
     "name": "stderr",
     "output_type": "stream",
     "text": [
      "C:\\Users\\KIIT\\miniconda3\\lib\\site-packages\\xgboost\\sklearn.py:888: UserWarning: The use of label encoder in XGBClassifier is deprecated and will be removed in a future release. To remove this warning, do the following: 1) Pass option use_label_encoder=False when constructing XGBClassifier object; and 2) Encode your labels (y) as integers starting with 0, i.e. 0, 1, 2, ..., [num_class - 1].\n",
      "  warnings.warn(label_encoder_deprecation_msg, UserWarning)\n"
     ]
    },
    {
     "name": "stdout",
     "output_type": "stream",
     "text": [
      "[00:43:02] WARNING: C:/Users/Administrator/workspace/xgboost-win64_release_1.3.0/src/learner.cc:1061: Starting in XGBoost 1.3.0, the default evaluation metric used with the objective 'multi:softprob' was changed from 'merror' to 'mlogloss'. Explicitly set eval_metric if you'd like to restore the old behavior.\n"
     ]
    },
    {
     "data": {
      "text/plain": [
       "0.8735973965762572"
      ]
     },
     "execution_count": 61,
     "metadata": {},
     "output_type": "execute_result"
    }
   ],
   "source": [
    "xgbclassifier = XGBClassifier()\n",
    "xgbclassifier.fit(X_train, y_train)\n",
    "yxgb_pred = xgbclassifier.predict(X_test)\n",
    "f1_score(y_test, yxgb_pred, average='weighted')"
   ]
  },
  {
   "cell_type": "code",
   "execution_count": 86,
   "metadata": {},
   "outputs": [],
   "source": [
    "test = pd.read_csv('./test.csv')"
   ]
  },
  {
   "cell_type": "code",
   "execution_count": 87,
   "metadata": {},
   "outputs": [
    {
     "data": {
      "text/html": [
       "<div>\n",
       "<style scoped>\n",
       "    .dataframe tbody tr th:only-of-type {\n",
       "        vertical-align: middle;\n",
       "    }\n",
       "\n",
       "    .dataframe tbody tr th {\n",
       "        vertical-align: top;\n",
       "    }\n",
       "\n",
       "    .dataframe thead th {\n",
       "        text-align: right;\n",
       "    }\n",
       "</style>\n",
       "<table border=\"1\" class=\"dataframe\">\n",
       "  <thead>\n",
       "    <tr style=\"text-align: right;\">\n",
       "      <th></th>\n",
       "      <th>Id</th>\n",
       "      <th>inspectionScore</th>\n",
       "      <th>maneuverabilityScore</th>\n",
       "      <th>maintananceConcerns</th>\n",
       "      <th>weatherSeverityScore</th>\n",
       "      <th>temperature</th>\n",
       "      <th>safetyCheckFailures</th>\n",
       "      <th>galeStrength</th>\n",
       "      <th>lastInspected</th>\n",
       "      <th>incidentCode</th>\n",
       "      <th>incidentID</th>\n",
       "      <th>maxCruisingElevation</th>\n",
       "    </tr>\n",
       "  </thead>\n",
       "  <tbody>\n",
       "    <tr>\n",
       "      <th>0</th>\n",
       "      <td>9000</td>\n",
       "      <td>68.036530</td>\n",
       "      <td>72.971741</td>\n",
       "      <td>1</td>\n",
       "      <td>0.001480</td>\n",
       "      <td>76.99</td>\n",
       "      <td>2</td>\n",
       "      <td>0.492817</td>\n",
       "      <td>12</td>\n",
       "      <td>7</td>\n",
       "      <td>73</td>\n",
       "      <td>15180.031790</td>\n",
       "    </tr>\n",
       "    <tr>\n",
       "      <th>1</th>\n",
       "      <td>9001</td>\n",
       "      <td>35.114155</td>\n",
       "      <td>54.284412</td>\n",
       "      <td>7</td>\n",
       "      <td>0.195201</td>\n",
       "      <td>79.61</td>\n",
       "      <td>2</td>\n",
       "      <td>0.551959</td>\n",
       "      <td>15</td>\n",
       "      <td>3</td>\n",
       "      <td>1931</td>\n",
       "      <td>39380.291355</td>\n",
       "    </tr>\n",
       "    <tr>\n",
       "      <th>2</th>\n",
       "      <td>9002</td>\n",
       "      <td>36.757991</td>\n",
       "      <td>67.411121</td>\n",
       "      <td>10</td>\n",
       "      <td>0.015497</td>\n",
       "      <td>80.43</td>\n",
       "      <td>2</td>\n",
       "      <td>0.245071</td>\n",
       "      <td>11</td>\n",
       "      <td>5</td>\n",
       "      <td>6847</td>\n",
       "      <td>23467.081784</td>\n",
       "    </tr>\n",
       "    <tr>\n",
       "      <th>3</th>\n",
       "      <td>9003</td>\n",
       "      <td>31.324201</td>\n",
       "      <td>57.566089</td>\n",
       "      <td>5</td>\n",
       "      <td>0.147077</td>\n",
       "      <td>79.10</td>\n",
       "      <td>1</td>\n",
       "      <td>0.429348</td>\n",
       "      <td>16</td>\n",
       "      <td>3</td>\n",
       "      <td>6620</td>\n",
       "      <td>29541.184112</td>\n",
       "    </tr>\n",
       "    <tr>\n",
       "      <th>4</th>\n",
       "      <td>9004</td>\n",
       "      <td>22.648402</td>\n",
       "      <td>72.880583</td>\n",
       "      <td>8</td>\n",
       "      <td>0.009533</td>\n",
       "      <td>79.52</td>\n",
       "      <td>3</td>\n",
       "      <td>0.351815</td>\n",
       "      <td>15</td>\n",
       "      <td>6</td>\n",
       "      <td>3843</td>\n",
       "      <td>37949.724386</td>\n",
       "    </tr>\n",
       "  </tbody>\n",
       "</table>\n",
       "</div>"
      ],
      "text/plain": [
       "     Id  inspectionScore  maneuverabilityScore  maintananceConcerns  \\\n",
       "0  9000        68.036530             72.971741                    1   \n",
       "1  9001        35.114155             54.284412                    7   \n",
       "2  9002        36.757991             67.411121                   10   \n",
       "3  9003        31.324201             57.566089                    5   \n",
       "4  9004        22.648402             72.880583                    8   \n",
       "\n",
       "   weatherSeverityScore  temperature  safetyCheckFailures  galeStrength  \\\n",
       "0              0.001480        76.99                    2      0.492817   \n",
       "1              0.195201        79.61                    2      0.551959   \n",
       "2              0.015497        80.43                    2      0.245071   \n",
       "3              0.147077        79.10                    1      0.429348   \n",
       "4              0.009533        79.52                    3      0.351815   \n",
       "\n",
       "   lastInspected  incidentCode  incidentID  maxCruisingElevation  \n",
       "0             12             7          73          15180.031790  \n",
       "1             15             3        1931          39380.291355  \n",
       "2             11             5        6847          23467.081784  \n",
       "3             16             3        6620          29541.184112  \n",
       "4             15             6        3843          37949.724386  "
      ]
     },
     "execution_count": 87,
     "metadata": {},
     "output_type": "execute_result"
    }
   ],
   "source": [
    "test.head()"
   ]
  },
  {
   "cell_type": "code",
   "execution_count": 88,
   "metadata": {},
   "outputs": [],
   "source": [
    "test.drop(columns=['incidentID','Id'],axis=1, inplace=True)"
   ]
  },
  {
   "cell_type": "code",
   "execution_count": 89,
   "metadata": {},
   "outputs": [],
   "source": [
    "test['lastInspectedGroup'] = test['lastInspected'].apply(lambda x: (x//5) if(x%5==0) else (x//5)+1)"
   ]
  },
  {
   "cell_type": "code",
   "execution_count": 90,
   "metadata": {},
   "outputs": [],
   "source": [
    "test['maintananceConcernGroup'] = test['maintananceConcerns'].apply(lambda x: 5 if(x>20) else(x//5 if(x%5==0 and x!= 0) else (x//5)+1))"
   ]
  },
  {
   "cell_type": "code",
   "execution_count": 91,
   "metadata": {},
   "outputs": [],
   "source": [
    "test.drop(columns=['maintananceConcerns','lastInspected'],axis=1, inplace=True)"
   ]
  },
  {
   "cell_type": "code",
   "execution_count": 92,
   "metadata": {},
   "outputs": [],
   "source": [
    "test['weatherSeverityScore'] = np.log(test['weatherSeverityScore'])"
   ]
  },
  {
   "cell_type": "code",
   "execution_count": 93,
   "metadata": {},
   "outputs": [],
   "source": [
    "test_pred = xgbclassifier.predict(test)"
   ]
  },
  {
   "cell_type": "code",
   "execution_count": 94,
   "metadata": {},
   "outputs": [],
   "source": [
    "test = pd.read_csv('./test.csv')"
   ]
  },
  {
   "cell_type": "code",
   "execution_count": 95,
   "metadata": {},
   "outputs": [],
   "source": [
    "test_pred = pd.DataFrame(test_pred)\n",
    "test_pred = pd.concat([test['Id'],test_pred],axis=1)"
   ]
  },
  {
   "cell_type": "code",
   "execution_count": 96,
   "metadata": {},
   "outputs": [],
   "source": [
    "test_pred.head()\n",
    "test_pred.columns = ['Id','scaleOfIncident']"
   ]
  },
  {
   "cell_type": "code",
   "execution_count": 106,
   "metadata": {},
   "outputs": [],
   "source": [
    "test_pred['scaleOfIncident'] = test_pred['scaleOfIncident'].apply(lambda x: 'low' if x==1 else('medium' if x==2 else('high' if x==3 else 'catastrophic')))"
   ]
  },
  {
   "cell_type": "code",
   "execution_count": 107,
   "metadata": {},
   "outputs": [],
   "source": [
    "test_pred.to_csv('./test_pred.csv', index=False)"
   ]
  },
  {
   "cell_type": "code",
   "execution_count": 108,
   "metadata": {},
   "outputs": [
    {
     "data": {
      "text/html": [
       "<div>\n",
       "<style scoped>\n",
       "    .dataframe tbody tr th:only-of-type {\n",
       "        vertical-align: middle;\n",
       "    }\n",
       "\n",
       "    .dataframe tbody tr th {\n",
       "        vertical-align: top;\n",
       "    }\n",
       "\n",
       "    .dataframe thead th {\n",
       "        text-align: right;\n",
       "    }\n",
       "</style>\n",
       "<table border=\"1\" class=\"dataframe\">\n",
       "  <thead>\n",
       "    <tr style=\"text-align: right;\">\n",
       "      <th></th>\n",
       "      <th>Id</th>\n",
       "      <th>scaleOfIncident</th>\n",
       "    </tr>\n",
       "  </thead>\n",
       "  <tbody>\n",
       "    <tr>\n",
       "      <th>0</th>\n",
       "      <td>9000</td>\n",
       "      <td>high</td>\n",
       "    </tr>\n",
       "    <tr>\n",
       "      <th>1</th>\n",
       "      <td>9001</td>\n",
       "      <td>low</td>\n",
       "    </tr>\n",
       "    <tr>\n",
       "      <th>2</th>\n",
       "      <td>9002</td>\n",
       "      <td>medium</td>\n",
       "    </tr>\n",
       "    <tr>\n",
       "      <th>3</th>\n",
       "      <td>9003</td>\n",
       "      <td>low</td>\n",
       "    </tr>\n",
       "    <tr>\n",
       "      <th>4</th>\n",
       "      <td>9004</td>\n",
       "      <td>catastrophic</td>\n",
       "    </tr>\n",
       "    <tr>\n",
       "      <th>...</th>\n",
       "      <td>...</td>\n",
       "      <td>...</td>\n",
       "    </tr>\n",
       "    <tr>\n",
       "      <th>995</th>\n",
       "      <td>9995</td>\n",
       "      <td>catastrophic</td>\n",
       "    </tr>\n",
       "    <tr>\n",
       "      <th>996</th>\n",
       "      <td>9996</td>\n",
       "      <td>medium</td>\n",
       "    </tr>\n",
       "    <tr>\n",
       "      <th>997</th>\n",
       "      <td>9997</td>\n",
       "      <td>medium</td>\n",
       "    </tr>\n",
       "    <tr>\n",
       "      <th>998</th>\n",
       "      <td>9998</td>\n",
       "      <td>medium</td>\n",
       "    </tr>\n",
       "    <tr>\n",
       "      <th>999</th>\n",
       "      <td>9999</td>\n",
       "      <td>catastrophic</td>\n",
       "    </tr>\n",
       "  </tbody>\n",
       "</table>\n",
       "<p>1000 rows × 2 columns</p>\n",
       "</div>"
      ],
      "text/plain": [
       "       Id scaleOfIncident\n",
       "0    9000            high\n",
       "1    9001             low\n",
       "2    9002          medium\n",
       "3    9003             low\n",
       "4    9004    catastrophic\n",
       "..    ...             ...\n",
       "995  9995    catastrophic\n",
       "996  9996          medium\n",
       "997  9997          medium\n",
       "998  9998          medium\n",
       "999  9999    catastrophic\n",
       "\n",
       "[1000 rows x 2 columns]"
      ]
     },
     "execution_count": 108,
     "metadata": {},
     "output_type": "execute_result"
    }
   ],
   "source": [
    "test_pred"
   ]
  },
  {
   "cell_type": "code",
   "execution_count": 109,
   "metadata": {},
   "outputs": [],
   "source": [
    "im = pd.read_csv('./test_pred.csv')"
   ]
  },
  {
   "cell_type": "code",
   "execution_count": 110,
   "metadata": {},
   "outputs": [
    {
     "data": {
      "text/html": [
       "<div>\n",
       "<style scoped>\n",
       "    .dataframe tbody tr th:only-of-type {\n",
       "        vertical-align: middle;\n",
       "    }\n",
       "\n",
       "    .dataframe tbody tr th {\n",
       "        vertical-align: top;\n",
       "    }\n",
       "\n",
       "    .dataframe thead th {\n",
       "        text-align: right;\n",
       "    }\n",
       "</style>\n",
       "<table border=\"1\" class=\"dataframe\">\n",
       "  <thead>\n",
       "    <tr style=\"text-align: right;\">\n",
       "      <th></th>\n",
       "      <th>Id</th>\n",
       "      <th>scaleOfIncident</th>\n",
       "    </tr>\n",
       "  </thead>\n",
       "  <tbody>\n",
       "    <tr>\n",
       "      <th>0</th>\n",
       "      <td>9000</td>\n",
       "      <td>high</td>\n",
       "    </tr>\n",
       "    <tr>\n",
       "      <th>1</th>\n",
       "      <td>9001</td>\n",
       "      <td>low</td>\n",
       "    </tr>\n",
       "    <tr>\n",
       "      <th>2</th>\n",
       "      <td>9002</td>\n",
       "      <td>medium</td>\n",
       "    </tr>\n",
       "    <tr>\n",
       "      <th>3</th>\n",
       "      <td>9003</td>\n",
       "      <td>low</td>\n",
       "    </tr>\n",
       "    <tr>\n",
       "      <th>4</th>\n",
       "      <td>9004</td>\n",
       "      <td>catastrophic</td>\n",
       "    </tr>\n",
       "    <tr>\n",
       "      <th>...</th>\n",
       "      <td>...</td>\n",
       "      <td>...</td>\n",
       "    </tr>\n",
       "    <tr>\n",
       "      <th>995</th>\n",
       "      <td>9995</td>\n",
       "      <td>catastrophic</td>\n",
       "    </tr>\n",
       "    <tr>\n",
       "      <th>996</th>\n",
       "      <td>9996</td>\n",
       "      <td>medium</td>\n",
       "    </tr>\n",
       "    <tr>\n",
       "      <th>997</th>\n",
       "      <td>9997</td>\n",
       "      <td>medium</td>\n",
       "    </tr>\n",
       "    <tr>\n",
       "      <th>998</th>\n",
       "      <td>9998</td>\n",
       "      <td>medium</td>\n",
       "    </tr>\n",
       "    <tr>\n",
       "      <th>999</th>\n",
       "      <td>9999</td>\n",
       "      <td>catastrophic</td>\n",
       "    </tr>\n",
       "  </tbody>\n",
       "</table>\n",
       "<p>1000 rows × 2 columns</p>\n",
       "</div>"
      ],
      "text/plain": [
       "       Id scaleOfIncident\n",
       "0    9000            high\n",
       "1    9001             low\n",
       "2    9002          medium\n",
       "3    9003             low\n",
       "4    9004    catastrophic\n",
       "..    ...             ...\n",
       "995  9995    catastrophic\n",
       "996  9996          medium\n",
       "997  9997          medium\n",
       "998  9998          medium\n",
       "999  9999    catastrophic\n",
       "\n",
       "[1000 rows x 2 columns]"
      ]
     },
     "execution_count": 110,
     "metadata": {},
     "output_type": "execute_result"
    }
   ],
   "source": [
    "im"
   ]
  },
  {
   "cell_type": "code",
   "execution_count": 102,
   "metadata": {},
   "outputs": [],
   "source": [
    "comp = pd.read_csv('./submission_3.csv')"
   ]
  },
  {
   "cell_type": "code",
   "execution_count": 104,
   "metadata": {},
   "outputs": [
    {
     "data": {
      "text/html": [
       "<div>\n",
       "<style scoped>\n",
       "    .dataframe tbody tr th:only-of-type {\n",
       "        vertical-align: middle;\n",
       "    }\n",
       "\n",
       "    .dataframe tbody tr th {\n",
       "        vertical-align: top;\n",
       "    }\n",
       "\n",
       "    .dataframe thead th {\n",
       "        text-align: right;\n",
       "    }\n",
       "</style>\n",
       "<table border=\"1\" class=\"dataframe\">\n",
       "  <thead>\n",
       "    <tr style=\"text-align: right;\">\n",
       "      <th></th>\n",
       "      <th>Id</th>\n",
       "      <th>scaleOfIncident</th>\n",
       "    </tr>\n",
       "  </thead>\n",
       "  <tbody>\n",
       "    <tr>\n",
       "      <th>0</th>\n",
       "      <td>9000</td>\n",
       "      <td>high</td>\n",
       "    </tr>\n",
       "    <tr>\n",
       "      <th>1</th>\n",
       "      <td>9001</td>\n",
       "      <td>low</td>\n",
       "    </tr>\n",
       "    <tr>\n",
       "      <th>2</th>\n",
       "      <td>9002</td>\n",
       "      <td>catastrophic</td>\n",
       "    </tr>\n",
       "    <tr>\n",
       "      <th>3</th>\n",
       "      <td>9003</td>\n",
       "      <td>medium</td>\n",
       "    </tr>\n",
       "    <tr>\n",
       "      <th>4</th>\n",
       "      <td>9004</td>\n",
       "      <td>catastrophic</td>\n",
       "    </tr>\n",
       "    <tr>\n",
       "      <th>...</th>\n",
       "      <td>...</td>\n",
       "      <td>...</td>\n",
       "    </tr>\n",
       "    <tr>\n",
       "      <th>995</th>\n",
       "      <td>9995</td>\n",
       "      <td>catastrophic</td>\n",
       "    </tr>\n",
       "    <tr>\n",
       "      <th>996</th>\n",
       "      <td>9996</td>\n",
       "      <td>medium</td>\n",
       "    </tr>\n",
       "    <tr>\n",
       "      <th>997</th>\n",
       "      <td>9997</td>\n",
       "      <td>medium</td>\n",
       "    </tr>\n",
       "    <tr>\n",
       "      <th>998</th>\n",
       "      <td>9998</td>\n",
       "      <td>medium</td>\n",
       "    </tr>\n",
       "    <tr>\n",
       "      <th>999</th>\n",
       "      <td>9999</td>\n",
       "      <td>catastrophic</td>\n",
       "    </tr>\n",
       "  </tbody>\n",
       "</table>\n",
       "<p>1000 rows × 2 columns</p>\n",
       "</div>"
      ],
      "text/plain": [
       "       Id scaleOfIncident\n",
       "0    9000            high\n",
       "1    9001             low\n",
       "2    9002    catastrophic\n",
       "3    9003          medium\n",
       "4    9004    catastrophic\n",
       "..    ...             ...\n",
       "995  9995    catastrophic\n",
       "996  9996          medium\n",
       "997  9997          medium\n",
       "998  9998          medium\n",
       "999  9999    catastrophic\n",
       "\n",
       "[1000 rows x 2 columns]"
      ]
     },
     "execution_count": 104,
     "metadata": {},
     "output_type": "execute_result"
    }
   ],
   "source": [
    "comp"
   ]
  },
  {
   "cell_type": "code",
   "execution_count": null,
   "metadata": {},
   "outputs": [],
   "source": []
  }
 ],
 "metadata": {
  "kernelspec": {
   "display_name": "Python 3",
   "language": "python",
   "name": "python3"
  },
  "language_info": {
   "codemirror_mode": {
    "name": "ipython",
    "version": 3
   },
   "file_extension": ".py",
   "mimetype": "text/x-python",
   "name": "python",
   "nbconvert_exporter": "python",
   "pygments_lexer": "ipython3",
   "version": "3.8.3"
  }
 },
 "nbformat": 4,
 "nbformat_minor": 4
}
